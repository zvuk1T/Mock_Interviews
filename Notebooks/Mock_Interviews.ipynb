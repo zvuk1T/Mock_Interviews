{
 "cells": [
  {
   "cell_type": "code",
   "execution_count": 1,
   "metadata": {},
   "outputs": [],
   "source": [
    "import numpy as np\n",
    "import pandas as pd\n",
    "import matplotlib.pyplot as plt\n",
    "import seaborn as sns"
   ]
  },
  {
   "cell_type": "code",
   "execution_count": 2,
   "metadata": {},
   "outputs": [],
   "source": [
    "wine = pd.read_csv('/Users/zeal.v/Desktop/Computer-Vision_Project_Masterschool/DATA/wine.csv', index_col=0)"
   ]
  },
  {
   "cell_type": "code",
   "execution_count": 3,
   "metadata": {},
   "outputs": [
    {
     "data": {
      "text/html": [
       "<div>\n",
       "<style scoped>\n",
       "    .dataframe tbody tr th:only-of-type {\n",
       "        vertical-align: middle;\n",
       "    }\n",
       "\n",
       "    .dataframe tbody tr th {\n",
       "        vertical-align: top;\n",
       "    }\n",
       "\n",
       "    .dataframe thead th {\n",
       "        text-align: right;\n",
       "    }\n",
       "</style>\n",
       "<table border=\"1\" class=\"dataframe\">\n",
       "  <thead>\n",
       "    <tr style=\"text-align: right;\">\n",
       "      <th></th>\n",
       "      <th>Winery</th>\n",
       "      <th>Year</th>\n",
       "      <th>Wine ID</th>\n",
       "      <th>Wine</th>\n",
       "      <th>Rating</th>\n",
       "      <th>num_review</th>\n",
       "      <th>price</th>\n",
       "      <th>Country</th>\n",
       "      <th>Region</th>\n",
       "    </tr>\n",
       "  </thead>\n",
       "  <tbody>\n",
       "    <tr>\n",
       "      <th>0</th>\n",
       "      <td>Vinicola de Castilla</td>\n",
       "      <td>2022</td>\n",
       "      <td>6151295</td>\n",
       "      <td>Palacio del Marques 2022</td>\n",
       "      <td>3.5</td>\n",
       "      <td>64</td>\n",
       "      <td>2.00</td>\n",
       "      <td>España</td>\n",
       "      <td>La Mancha</td>\n",
       "    </tr>\n",
       "    <tr>\n",
       "      <th>1</th>\n",
       "      <td>Calabuig</td>\n",
       "      <td>2022</td>\n",
       "      <td>3957265</td>\n",
       "      <td>Tinto 2022</td>\n",
       "      <td>3.6</td>\n",
       "      <td>2294</td>\n",
       "      <td>2.85</td>\n",
       "      <td>España</td>\n",
       "      <td>Valencia</td>\n",
       "    </tr>\n",
       "    <tr>\n",
       "      <th>2</th>\n",
       "      <td>Finca Vieja</td>\n",
       "      <td>2021</td>\n",
       "      <td>1243721</td>\n",
       "      <td>Crianza 2021</td>\n",
       "      <td>3.2</td>\n",
       "      <td>939</td>\n",
       "      <td>2.90</td>\n",
       "      <td>España</td>\n",
       "      <td>La Mancha</td>\n",
       "    </tr>\n",
       "    <tr>\n",
       "      <th>3</th>\n",
       "      <td>Finca Venta de Don Quijote</td>\n",
       "      <td>2023</td>\n",
       "      <td>1374696</td>\n",
       "      <td>Red Blend 2023</td>\n",
       "      <td>3.0</td>\n",
       "      <td>64</td>\n",
       "      <td>2.96</td>\n",
       "      <td>España</td>\n",
       "      <td>La Mancha</td>\n",
       "    </tr>\n",
       "    <tr>\n",
       "      <th>4</th>\n",
       "      <td>Castillo de Liria</td>\n",
       "      <td>2021</td>\n",
       "      <td>1643745</td>\n",
       "      <td>Bobal - Shiraz 2021</td>\n",
       "      <td>3.3</td>\n",
       "      <td>138</td>\n",
       "      <td>3.10</td>\n",
       "      <td>España</td>\n",
       "      <td>Valencia</td>\n",
       "    </tr>\n",
       "  </tbody>\n",
       "</table>\n",
       "</div>"
      ],
      "text/plain": [
       "                       Winery  Year  Wine ID                      Wine  \\\n",
       "0        Vinicola de Castilla  2022  6151295  Palacio del Marques 2022   \n",
       "1                    Calabuig  2022  3957265                Tinto 2022   \n",
       "2                 Finca Vieja  2021  1243721              Crianza 2021   \n",
       "3  Finca Venta de Don Quijote  2023  1374696            Red Blend 2023   \n",
       "4           Castillo de Liria  2021  1643745       Bobal - Shiraz 2021   \n",
       "\n",
       "   Rating  num_review  price Country     Region  \n",
       "0     3.5          64   2.00  España  La Mancha  \n",
       "1     3.6        2294   2.85  España   Valencia  \n",
       "2     3.2         939   2.90  España  La Mancha  \n",
       "3     3.0          64   2.96  España  La Mancha  \n",
       "4     3.3         138   3.10  España   Valencia  "
      ]
     },
     "execution_count": 3,
     "metadata": {},
     "output_type": "execute_result"
    }
   ],
   "source": [
    "wine.head()"
   ]
  },
  {
   "cell_type": "markdown",
   "metadata": {},
   "source": [
    "- Shape of our data is:\n",
    "     - here we can see how many rows and columns we have"
   ]
  },
  {
   "cell_type": "code",
   "execution_count": 4,
   "metadata": {},
   "outputs": [
    {
     "data": {
      "text/plain": [
       "(14600, 9)"
      ]
     },
     "execution_count": 4,
     "metadata": {},
     "output_type": "execute_result"
    }
   ],
   "source": [
    "wine.shape"
   ]
  },
  {
   "cell_type": "code",
   "execution_count": 5,
   "metadata": {},
   "outputs": [
    {
     "name": "stdout",
     "output_type": "stream",
     "text": [
      "<class 'pandas.core.frame.DataFrame'>\n",
      "Index: 14600 entries, 0 to 14599\n",
      "Data columns (total 9 columns):\n",
      " #   Column      Non-Null Count  Dtype  \n",
      "---  ------      --------------  -----  \n",
      " 0   Winery      14600 non-null  object \n",
      " 1   Year        14598 non-null  object \n",
      " 2   Wine ID     14600 non-null  int64  \n",
      " 3   Wine        14600 non-null  object \n",
      " 4   Rating      14600 non-null  float64\n",
      " 5   num_review  14600 non-null  int64  \n",
      " 6   price       14600 non-null  float64\n",
      " 7   Country     14600 non-null  object \n",
      " 8   Region      14600 non-null  object \n",
      "dtypes: float64(2), int64(2), object(5)\n",
      "memory usage: 1.1+ MB\n"
     ]
    }
   ],
   "source": [
    "wine.info()"
   ]
  },
  {
   "cell_type": "markdown",
   "metadata": {},
   "source": [
    " - Here is Stat info abour our data:\n",
    "   - We can see that our data are normaly distributed, there is no big outliers."
   ]
  },
  {
   "cell_type": "code",
   "execution_count": 6,
   "metadata": {},
   "outputs": [
    {
     "data": {
      "text/html": [
       "<div>\n",
       "<style scoped>\n",
       "    .dataframe tbody tr th:only-of-type {\n",
       "        vertical-align: middle;\n",
       "    }\n",
       "\n",
       "    .dataframe tbody tr th {\n",
       "        vertical-align: top;\n",
       "    }\n",
       "\n",
       "    .dataframe thead th {\n",
       "        text-align: right;\n",
       "    }\n",
       "</style>\n",
       "<table border=\"1\" class=\"dataframe\">\n",
       "  <thead>\n",
       "    <tr style=\"text-align: right;\">\n",
       "      <th></th>\n",
       "      <th>Wine ID</th>\n",
       "      <th>Rating</th>\n",
       "      <th>num_review</th>\n",
       "      <th>price</th>\n",
       "    </tr>\n",
       "  </thead>\n",
       "  <tbody>\n",
       "    <tr>\n",
       "      <th>count</th>\n",
       "      <td>14600.00</td>\n",
       "      <td>14600.00</td>\n",
       "      <td>14600.00</td>\n",
       "      <td>14600.00</td>\n",
       "    </tr>\n",
       "    <tr>\n",
       "      <th>mean</th>\n",
       "      <td>3379977.90</td>\n",
       "      <td>3.81</td>\n",
       "      <td>633.10</td>\n",
       "      <td>11.35</td>\n",
       "    </tr>\n",
       "    <tr>\n",
       "      <th>std</th>\n",
       "      <td>3303539.85</td>\n",
       "      <td>0.21</td>\n",
       "      <td>1594.19</td>\n",
       "      <td>1.70</td>\n",
       "    </tr>\n",
       "    <tr>\n",
       "      <th>min</th>\n",
       "      <td>1616.00</td>\n",
       "      <td>2.40</td>\n",
       "      <td>25.00</td>\n",
       "      <td>2.00</td>\n",
       "    </tr>\n",
       "    <tr>\n",
       "      <th>25%</th>\n",
       "      <td>1173873.00</td>\n",
       "      <td>3.60</td>\n",
       "      <td>90.00</td>\n",
       "      <td>11.95</td>\n",
       "    </tr>\n",
       "    <tr>\n",
       "      <th>50%</th>\n",
       "      <td>2040817.00</td>\n",
       "      <td>3.90</td>\n",
       "      <td>178.00</td>\n",
       "      <td>11.99</td>\n",
       "    </tr>\n",
       "    <tr>\n",
       "      <th>75%</th>\n",
       "      <td>5282020.00</td>\n",
       "      <td>3.90</td>\n",
       "      <td>542.25</td>\n",
       "      <td>12.00</td>\n",
       "    </tr>\n",
       "    <tr>\n",
       "      <th>max</th>\n",
       "      <td>12843958.00</td>\n",
       "      <td>4.30</td>\n",
       "      <td>91508.00</td>\n",
       "      <td>12.00</td>\n",
       "    </tr>\n",
       "  </tbody>\n",
       "</table>\n",
       "</div>"
      ],
      "text/plain": [
       "           Wine ID    Rating  num_review     price\n",
       "count     14600.00  14600.00    14600.00  14600.00\n",
       "mean    3379977.90      3.81      633.10     11.35\n",
       "std     3303539.85      0.21     1594.19      1.70\n",
       "min        1616.00      2.40       25.00      2.00\n",
       "25%     1173873.00      3.60       90.00     11.95\n",
       "50%     2040817.00      3.90      178.00     11.99\n",
       "75%     5282020.00      3.90      542.25     12.00\n",
       "max    12843958.00      4.30    91508.00     12.00"
      ]
     },
     "execution_count": 6,
     "metadata": {},
     "output_type": "execute_result"
    }
   ],
   "source": [
    "wine.describe().round(2)"
   ]
  },
  {
   "cell_type": "code",
   "execution_count": 7,
   "metadata": {},
   "outputs": [
    {
     "data": {
      "text/html": [
       "<div>\n",
       "<style scoped>\n",
       "    .dataframe tbody tr th:only-of-type {\n",
       "        vertical-align: middle;\n",
       "    }\n",
       "\n",
       "    .dataframe tbody tr th {\n",
       "        vertical-align: top;\n",
       "    }\n",
       "\n",
       "    .dataframe thead tr th {\n",
       "        text-align: left;\n",
       "    }\n",
       "\n",
       "    .dataframe thead tr:last-of-type th {\n",
       "        text-align: right;\n",
       "    }\n",
       "</style>\n",
       "<table border=\"1\" class=\"dataframe\">\n",
       "  <thead>\n",
       "    <tr>\n",
       "      <th></th>\n",
       "      <th>price</th>\n",
       "    </tr>\n",
       "    <tr>\n",
       "      <th></th>\n",
       "      <th>count</th>\n",
       "    </tr>\n",
       "    <tr>\n",
       "      <th>Winery</th>\n",
       "      <th></th>\n",
       "    </tr>\n",
       "  </thead>\n",
       "  <tbody>\n",
       "    <tr>\n",
       "      <th>Familia Torres</th>\n",
       "      <td>508</td>\n",
       "    </tr>\n",
       "    <tr>\n",
       "      <th>Juan Gil</th>\n",
       "      <td>500</td>\n",
       "    </tr>\n",
       "    <tr>\n",
       "      <th>Bodegas Valdemar</th>\n",
       "      <td>499</td>\n",
       "    </tr>\n",
       "    <tr>\n",
       "      <th>Bodegas Cosme Palacio</th>\n",
       "      <td>499</td>\n",
       "    </tr>\n",
       "    <tr>\n",
       "      <th>Bodegas Valdelana</th>\n",
       "      <td>496</td>\n",
       "    </tr>\n",
       "    <tr>\n",
       "      <th>Montecillo</th>\n",
       "      <td>494</td>\n",
       "    </tr>\n",
       "    <tr>\n",
       "      <th>Azul y Garanza</th>\n",
       "      <td>493</td>\n",
       "    </tr>\n",
       "    <tr>\n",
       "      <th>Coca i Fitó</th>\n",
       "      <td>493</td>\n",
       "    </tr>\n",
       "    <tr>\n",
       "      <th>Matsu</th>\n",
       "      <td>492</td>\n",
       "    </tr>\n",
       "    <tr>\n",
       "      <th>Fabregas</th>\n",
       "      <td>492</td>\n",
       "    </tr>\n",
       "  </tbody>\n",
       "</table>\n",
       "</div>"
      ],
      "text/plain": [
       "                      price\n",
       "                      count\n",
       "Winery                     \n",
       "Familia Torres          508\n",
       "Juan Gil                500\n",
       "Bodegas Valdemar        499\n",
       "Bodegas Cosme Palacio   499\n",
       "Bodegas Valdelana       496\n",
       "Montecillo              494\n",
       "Azul y Garanza          493\n",
       "Coca i Fitó             493\n",
       "Matsu                   492\n",
       "Fabregas                492"
      ]
     },
     "execution_count": 7,
     "metadata": {},
     "output_type": "execute_result"
    }
   ],
   "source": [
    "wine.groupby('Winery').agg({'price': ['count']}).sort_values(by=('price', 'count'), ascending=False).head(10)"
   ]
  },
  {
   "cell_type": "code",
   "execution_count": 8,
   "metadata": {},
   "outputs": [
    {
     "data": {
      "text/plain": [
       "<Axes: ylabel='price'>"
      ]
     },
     "execution_count": 8,
     "metadata": {},
     "output_type": "execute_result"
    },
    {
     "data": {
      "image/png": "[encoded data removed]",
      "text/plain": [
       "<Figure size 640x480 with 1 Axes>"
      ]
     },
     "metadata": {},
     "output_type": "display_data"
    }
   ],
   "source": [
    "sns.boxplot(y='price', data=wine)\n"
   ]
  },
  {
   "cell_type": "code",
   "execution_count": 9,
   "metadata": {},
   "outputs": [
    {
     "data": {
      "text/plain": [
       "<Axes: ylabel='price'>"
      ]
     },
     "execution_count": 9,
     "metadata": {},
     "output_type": "execute_result"
    },
    {
     "data": {
      "image/png": "[encoded data removed]",
      "text/plain": [
       "<Figure size 640x480 with 1 Axes>"
      ]
     },
     "metadata": {},
     "output_type": "display_data"
    }
   ],
   "source": [
    "sns.boxplot(y=wine[\"price\"])"
   ]
  },
  {
   "cell_type": "code",
   "execution_count": 10,
   "metadata": {},
   "outputs": [
    {
     "data": {
      "text/plain": [
       "<Axes: xlabel='price', ylabel='Count'>"
      ]
     },
     "execution_count": 10,
     "metadata": {},
     "output_type": "execute_result"
    },
    {
     "data": {
      "image/png": "[encoded data removed]",
      "text/plain": [
       "<Figure size 640x480 with 1 Axes>"
      ]
     },
     "metadata": {},
     "output_type": "display_data"
    }
   ],
   "source": [
    "sns.histplot(wine['price'], bins=20, kde=True)"
   ]
  },
  {
   "cell_type": "code",
   "execution_count": 11,
   "metadata": {},
   "outputs": [
    {
     "data": {
      "text/plain": [
       "<Axes: xlabel='price', ylabel='Count'>"
      ]
     },
     "execution_count": 11,
     "metadata": {},
     "output_type": "execute_result"
    },
    {
     "data": {
      "image/png": "[encoded data removed]",
      "text/plain": [
       "<Figure size 640x480 with 1 Axes>"
      ]
     },
     "metadata": {},
     "output_type": "display_data"
    }
   ],
   "source": [
    "wine_12 = wine[wine['price'] <= 11]\n",
    "sns.histplot(wine_12['price'], bins=20, kde=True)"
   ]
  },
  {
   "cell_type": "code",
   "execution_count": 12,
   "metadata": {},
   "outputs": [
    {
     "data": {
      "text/plain": [
       "<Axes: ylabel='price'>"
      ]
     },
     "execution_count": 12,
     "metadata": {},
     "output_type": "execute_result"
    },
    {
     "data": {
      "image/png": "[encoded data removed]",
      "text/plain": [
       "<Figure size 640x480 with 1 Axes>"
      ]
     },
     "metadata": {},
     "output_type": "display_data"
    }
   ],
   "source": [
    "sns.boxplot(y=wine_12[\"price\"])"
   ]
  },
  {
   "cell_type": "code",
   "execution_count": 13,
   "metadata": {},
   "outputs": [
    {
     "data": {
      "text/plain": [
       "Winery        0\n",
       "Year          2\n",
       "Wine ID       0\n",
       "Wine          0\n",
       "Rating        0\n",
       "num_review    0\n",
       "price         0\n",
       "Country       0\n",
       "Region        0\n",
       "dtype: int64"
      ]
     },
     "execution_count": 13,
     "metadata": {},
     "output_type": "execute_result"
    }
   ],
   "source": [
    "wine.isnull().sum()"
   ]
  },
  {
   "cell_type": "code",
   "execution_count": 14,
   "metadata": {},
   "outputs": [
    {
     "name": "stdout",
     "output_type": "stream",
     "text": [
      "<class 'pandas.core.frame.DataFrame'>\n",
      "Index: 14600 entries, 0 to 14599\n",
      "Data columns (total 9 columns):\n",
      " #   Column      Non-Null Count  Dtype  \n",
      "---  ------      --------------  -----  \n",
      " 0   Winery      14600 non-null  object \n",
      " 1   Year        14598 non-null  object \n",
      " 2   Wine ID     14600 non-null  int64  \n",
      " 3   Wine        14600 non-null  object \n",
      " 4   Rating      14600 non-null  float64\n",
      " 5   num_review  14600 non-null  int64  \n",
      " 6   price       14600 non-null  float64\n",
      " 7   Country     14600 non-null  object \n",
      " 8   Region      14600 non-null  object \n",
      "dtypes: float64(2), int64(2), object(5)\n",
      "memory usage: 1.1+ MB\n"
     ]
    }
   ],
   "source": [
    "wine.info()"
   ]
  },
  {
   "cell_type": "code",
   "execution_count": 15,
   "metadata": {},
   "outputs": [],
   "source": [
    "# Replace non-numeric values with NaN\n",
    "wine['Year'] = pd.to_numeric(wine['Year'], errors='coerce')\n",
    "\n",
    "# Fill NaN values with a default value, e.g., 0\n",
    "wine['Year'] = wine['Year'].fillna(0).astype(int)"
   ]
  },
  {
   "cell_type": "code",
   "execution_count": 16,
   "metadata": {},
   "outputs": [
    {
     "data": {
      "text/plain": [
       "0"
      ]
     },
     "execution_count": 16,
     "metadata": {},
     "output_type": "execute_result"
    }
   ],
   "source": [
    "np.min(wine['Year'])"
   ]
  },
  {
   "cell_type": "code",
   "execution_count": 17,
   "metadata": {},
   "outputs": [],
   "source": [
    "wine_12 = wine[wine['Year'] != 0]"
   ]
  },
  {
   "cell_type": "code",
   "execution_count": 18,
   "metadata": {},
   "outputs": [
    {
     "data": {
      "text/plain": [
       "2010"
      ]
     },
     "execution_count": 18,
     "metadata": {},
     "output_type": "execute_result"
    }
   ],
   "source": [
    "np.min(wine_12['Year'])"
   ]
  },
  {
   "cell_type": "code",
   "execution_count": 19,
   "metadata": {},
   "outputs": [
    {
     "data": {
      "text/plain": [
       "2024"
      ]
     },
     "execution_count": 19,
     "metadata": {},
     "output_type": "execute_result"
    }
   ],
   "source": [
    "np.max(wine_12['Year'])"
   ]
  }
 ],
 "metadata": {
  "kernelspec": {
   "display_name": ".venv",
   "language": "python",
   "name": "python3"
  },
  "language_info": {
   "codemirror_mode": {
    "name": "ipython",
    "version": 3
   },
   "file_extension": ".py",
   "mimetype": "text/x-python",
   "name": "python",
   "nbconvert_exporter": "python",
   "pygments_lexer": "ipython3",
   "version": "3.9.21"
  }
 },
 "nbformat": 4,
 "nbformat_minor": 2
}
