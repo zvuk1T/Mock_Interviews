{
 "cells": [
  {
   "cell_type": "markdown",
   "id": "d56e4edc",
   "metadata": {},
   "source": [
    "# 🐍 NYC High School Directory Exploration"
   ]
  },
  {
   "cell_type": "code",
   "execution_count": 2,
   "id": "4b6554e5",
   "metadata": {},
   "outputs": [],
   "source": [
    "import numpy as np\n",
    "import pandas as pd\n",
    "import matplotlib.pyplot as plt\n",
    "import seaborn as sns\n",
    "import psycopg2"
   ]
  },
  {
   "cell_type": "markdown",
   "id": "de67ab6d",
   "metadata": {},
   "source": [
    "## ✅ Instructions:"
   ]
  },
  {
   "cell_type": "markdown",
   "id": "ea2bcd57",
   "metadata": {},
   "source": [
    "### 1. Download the dataset from the `day_2_datasets` folder."
   ]
  },
  {
   "cell_type": "code",
   "execution_count": 3,
   "id": "df5377b7",
   "metadata": {},
   "outputs": [
    {
     "name": "stderr",
     "output_type": "stream",
     "text": [
      "/Users/zeal.v/Desktop/Mock_Interviews/.venv/lib/python3.9/site-packages/tqdm/auto.py:21: TqdmWarning: IProgress not found. Please update jupyter and ipywidgets. See https://ipywidgets.readthedocs.io/en/stable/user_install.html\n",
      "  from .autonotebook import tqdm as notebook_tqdm\n"
     ]
    },
    {
     "name": "stdout",
     "output_type": "stream",
     "text": [
      "Path to dataset files: /Users/zeal.v/.cache/kagglehub/datasets/new-york-city/nyc-high-school-directory/versions/7\n"
     ]
    }
   ],
   "source": [
    "# download the dataset\n",
    "import kagglehub\n",
    "\n",
    "# Download latest version\n",
    "path = kagglehub.dataset_download(\"new-york-city/nyc-high-school-directory\")\n",
    "\n",
    "print(\"Path to dataset files:\", path)"
   ]
  },
  {
   "cell_type": "code",
   "execution_count": 4,
   "id": "364dd186",
   "metadata": {},
   "outputs": [
    {
     "name": "stdout",
     "output_type": "stream",
     "text": [
      "Files in dataset directory:\n",
      "['doe-high-school-directory-2013-2014.csv', 'DOE_High_Shool_Directory_2013-2014.xlsx', 'Archived_DOE_High_School_Directory_2014-2015.csv', '2016-doe-high-school-directory.csv', 'socrata_metadata_2016-doe-high-school-directory.json', 'socrata_metadata_doe-high-school-directory-2013-2014.json', 'socrata_metadata_2014-2015-doe-high-school-directory.json', 'doe hsdirectory school column description.csv', '2017-doe-high-school-directory.csv', 'socrata_metadata_2017-doe-high-school-directory.json', '2016_DOE_High_School_Directory.xlsx', '2014-2015_DOE_High_Shool_Directory.xlsx', 'Archived_DOE_High_School_Directory_2016.csv', '2014-2015-doe-high-school-directory.csv', '2017_DOE_High_School_Directory.xlsx']\n"
     ]
    }
   ],
   "source": [
    "import os\n",
    "\n",
    "# List all files in the dataset directory to find the correct CSV file\n",
    "print(\"Files in dataset directory:\")\n",
    "print(os.listdir(path))"
   ]
  },
  {
   "cell_type": "markdown",
   "id": "b5f442ec",
   "metadata": {},
   "source": [
    "### 2. Open a new Jupyter Notebook and:"
   ]
  },
  {
   "cell_type": "markdown",
   "id": "490de72d",
   "metadata": {},
   "source": [
    "#### - Load the dataset using pandas"
   ]
  },
  {
   "cell_type": "code",
   "execution_count": 5,
   "id": "8bfa2fac",
   "metadata": {},
   "outputs": [
    {
     "name": "stdout",
     "output_type": "stream",
     "text": [
      "First few rows of the DataFrame:\n",
      "      dbn                                        school_name    borough  \\\n",
      "0  27Q260          Frederick Douglass Academy VI High School     Queens   \n",
      "1  21K559        Life Academy High School for Film and Music   Brooklyn   \n",
      "2  16K393     Frederick Douglass Academy IV Secondary School   Brooklyn   \n",
      "3  08X305                               Pablo Neruda Academy      Bronx   \n",
      "4  03M485  Fiorello H. LaGuardia High School of Music & A...  Manhattan   \n",
      "\n",
      "  building_code  phone_number    fax_number  grade_span_min  grade_span_max  \\\n",
      "0          Q465  718-471-2154  718-471-2890             9.0              12   \n",
      "1          K400  718-333-7750  718-333-7775             9.0              12   \n",
      "2          K026  718-574-2820  718-574-2821             9.0              12   \n",
      "3          X450  718-824-1682  718-824-1663             9.0              12   \n",
      "4          M485  212-496-0700  212-724-5748             9.0              12   \n",
      "\n",
      "   expgrade_span_min  expgrade_span_max  ... Council District Census Tract  \\\n",
      "0                NaN                NaN  ...             31.0     100802.0   \n",
      "1                NaN                NaN  ...             47.0        306.0   \n",
      "2                NaN                NaN  ...             36.0        291.0   \n",
      "3                NaN                NaN  ...             18.0         16.0   \n",
      "4                NaN                NaN  ...              6.0        151.0   \n",
      "\n",
      "         BIN           BBL                                                NTA  \\\n",
      "0  4300730.0  4.157360e+09  Far Rockaway-Bayswater                        ...   \n",
      "1  3186454.0  3.068830e+09  Gravesend                                     ...   \n",
      "2  3393805.0  3.016160e+09  Stuyvesant Heights                            ...   \n",
      "3  2022205.0  2.036040e+09  Soundview-Castle Hill-Clason Point-Harding Par...   \n",
      "4  1030341.0  1.011560e+09  Lincoln Square                                ...   \n",
      "\n",
      "   Zip Codes Community Districts  Borough Boundaries City Council Districts  \\\n",
      "0    20529.0                  51                   3                     47   \n",
      "1    17616.0                  21                   2                     45   \n",
      "2    18181.0                  69                   2                     49   \n",
      "3    11611.0                  58                   5                     31   \n",
      "4    12420.0                  20                   4                     19   \n",
      "\n",
      "  Police Precincts  \n",
      "0               59  \n",
      "1               35  \n",
      "2               52  \n",
      "3               26  \n",
      "4               12  \n",
      "\n",
      "[5 rows x 69 columns]\n"
     ]
    }
   ],
   "source": [
    "# Load the dataset\n",
    "df = pd.read_csv(os.path.join(path, \"2014-2015-doe-high-school-directory.csv\"))\n",
    "\n",
    "# Display the first few rows of the DataFrame\n",
    "print(f\"First few rows of the DataFrame:\\n{df.head()}\")"
   ]
  },
  {
   "cell_type": "code",
   "execution_count": 42,
   "id": "83944c70",
   "metadata": {},
   "outputs": [
    {
     "name": "stdout",
     "output_type": "stream",
     "text": [
      "Shape of the DataFrame: (435, 69)\n"
     ]
    }
   ],
   "source": [
    "# Display the shape of the DataFrame\n",
    "print(f\"Shape of the DataFrame: {df.shape}\")"
   ]
  },
  {
   "cell_type": "markdown",
   "id": "cbb31c51",
   "metadata": {},
   "source": [
    "#### - Clean the column names (make lowercase, replace spaces with _, remove special characters)"
   ]
  },
  {
   "cell_type": "code",
   "execution_count": 16,
   "id": "046c901a",
   "metadata": {},
   "outputs": [
    {
     "name": "stdout",
     "output_type": "stream",
     "text": [
      "Columns in the DataFrame:\n",
      "['dbn', 'school_name', 'borough', 'building_code', 'phone_number', 'fax_number', 'grade_span_min', 'grade_span_max', 'expgrade_span_min', 'expgrade_span_max', 'bus', 'subway', 'primary_address_line_1', 'city', 'state_code', 'postcode', 'website', 'total_students', 'campus_name', 'school_type', 'overview_paragraph', 'program_highlights', 'language_classes', 'advancedplacement_courses', 'online_ap_courses', 'online_language_courses', 'extracurricular_activities', 'psal_sports_boys', 'psal_sports_girls', 'psal_sports_coed', 'school_sports', 'partner_cbo', 'partner_hospital', 'partner_highered', 'partner_cultural', 'partner_nonprofit', 'partner_corporate', 'partner_financial', 'partner_other', 'addtl_info1', 'addtl_info2', 'start_time', 'end_time', 'se_services', 'ell_programs', 'school_accessibility_description', 'number_programs', 'priority01', 'priority02', 'priority03', 'priority04', 'priority05', 'priority06', 'priority07', 'priority08', 'priority09', 'priority10', 'Location 1', 'Community Board', 'Council District', 'Census Tract', 'BIN', 'BBL', 'NTA', 'Zip Codes', 'Community Districts', 'Borough Boundaries', 'City Council Districts', 'Police Precincts']\n"
     ]
    }
   ],
   "source": [
    "# Display the columns of the DataFrame\n",
    "print(f\"Columns in the DataFrame:\\n{df.columns.tolist()}\")"
   ]
  },
  {
   "cell_type": "code",
   "execution_count": 18,
   "id": "aa21357b",
   "metadata": {},
   "outputs": [
    {
     "name": "stdout",
     "output_type": "stream",
     "text": [
      "Cleaned column names:\n",
      "['dbn', 'school_name', 'borough', 'building_code', 'phone_number', 'fax_number', 'grade_span_min', 'grade_span_max', 'expgrade_span_min', 'expgrade_span_max', 'bus', 'subway', 'primary_address_line_1', 'city', 'state_code', 'postcode', 'website', 'total_students', 'campus_name', 'school_type', 'overview_paragraph', 'program_highlights', 'language_classes', 'advancedplacement_courses', 'online_ap_courses', 'online_language_courses', 'extracurricular_activities', 'psal_sports_boys', 'psal_sports_girls', 'psal_sports_coed', 'school_sports', 'partner_cbo', 'partner_hospital', 'partner_highered', 'partner_cultural', 'partner_nonprofit', 'partner_corporate', 'partner_financial', 'partner_other', 'addtl_info1', 'addtl_info2', 'start_time', 'end_time', 'se_services', 'ell_programs', 'school_accessibility_description', 'number_programs', 'priority01', 'priority02', 'priority03', 'priority04', 'priority05', 'priority06', 'priority07', 'priority08', 'priority09', 'priority10', 'location_1', 'community_board', 'council_district', 'census_tract', 'bin', 'bbl', 'nta', 'zip_codes', 'community_districts', 'borough_boundaries', 'city_council_districts', 'police_precincts']\n"
     ]
    }
   ],
   "source": [
    "# Clean the column names (make lowercase, replace spaces with _, remove special characters)\n",
    "df.columns = df.columns.str.lower().str.replace(' ', '_').str.replace('[^a-zA-Z0-9_]', '', regex=True)\n",
    "# Display the cleaned column names\n",
    "print(f\"Cleaned column names:\\n{df.columns.tolist()}\")"
   ]
  },
  {
   "cell_type": "code",
   "execution_count": 19,
   "id": "4210e2c6",
   "metadata": {},
   "outputs": [
    {
     "name": "stdout",
     "output_type": "stream",
     "text": [
      "Data types of the columns:\n",
      "dbn                        object\n",
      "school_name                object\n",
      "borough                    object\n",
      "building_code              object\n",
      "phone_number               object\n",
      "                           ...   \n",
      "zip_codes                 float64\n",
      "community_districts         int64\n",
      "borough_boundaries          int64\n",
      "city_council_districts      int64\n",
      "police_precincts            int64\n",
      "Length: 69, dtype: object\n"
     ]
    }
   ],
   "source": [
    "# Display the data types of the columns\n",
    "print(f\"Data types of the columns:\\n{df.dtypes}\")"
   ]
  },
  {
   "cell_type": "code",
   "execution_count": 20,
   "id": "7bf9e544",
   "metadata": {},
   "outputs": [
    {
     "name": "stdout",
     "output_type": "stream",
     "text": [
      "Summary statistics of the DataFrame:\n",
      "       grade_span_min  grade_span_max  expgrade_span_min  expgrade_span_max  \\\n",
      "count      432.000000      435.000000          31.000000          33.000000   \n",
      "mean         8.442130       11.894253           8.516129          12.363636   \n",
      "std          1.164591        0.421583           1.121635           0.783349   \n",
      "min          6.000000        9.000000           6.000000          12.000000   \n",
      "25%          9.000000       12.000000           9.000000          12.000000   \n",
      "50%          9.000000       12.000000           9.000000          12.000000   \n",
      "75%          9.000000       12.000000           9.000000          12.000000   \n",
      "max          9.000000       12.000000           9.000000          14.000000   \n",
      "\n",
      "           postcode  total_students  number_programs  community_board  \\\n",
      "count    435.000000      426.000000       435.000000       432.000000   \n",
      "mean   10726.096552      703.842723         1.708046         6.787037   \n",
      "std      537.927907      775.870436         1.564233         4.367781   \n",
      "min    10001.000000       50.000000         1.000000         1.000000   \n",
      "25%    10301.500000      349.000000         1.000000         3.000000   \n",
      "50%    10472.000000      460.500000         1.000000         6.000000   \n",
      "75%    11217.000000      622.000000         2.000000        10.000000   \n",
      "max    11694.000000     5458.000000        10.000000        18.000000   \n",
      "\n",
      "       council_district   census_tract           bin           bbl  \\\n",
      "count        432.000000     432.000000  4.310000e+02  4.310000e+02   \n",
      "mean          21.856481    3988.340278  2.581724e+06  2.510921e+09   \n",
      "std           14.321718   15582.415491  1.189750e+06  1.136455e+09   \n",
      "min            1.000000       1.000000  1.000811e+06  1.000160e+09   \n",
      "25%           10.000000     118.000000  2.000992e+06  2.023060e+09   \n",
      "50%           18.000000     251.500000  2.116159e+06  2.053680e+09   \n",
      "75%           34.000000     510.250000  3.330710e+06  3.068830e+09   \n",
      "max           51.000000  138501.000000  5.149609e+06  5.066130e+09   \n",
      "\n",
      "          zip_codes  community_districts  borough_boundaries  \\\n",
      "count    434.000000           435.000000          435.000000   \n",
      "mean   14232.228111            38.372414            3.452874   \n",
      "std     3529.272774            19.345374            1.212249   \n",
      "min    10090.000000             1.000000            1.000000   \n",
      "25%    11606.000000            22.000000            2.000000   \n",
      "50%    13093.000000            39.000000            4.000000   \n",
      "75%    16865.750000            53.500000            5.000000   \n",
      "max    24669.000000            71.000000            5.000000   \n",
      "\n",
      "       city_council_districts  police_precincts  \n",
      "count              435.000000        435.000000  \n",
      "mean                28.832184         36.949425  \n",
      "std                 14.209488         21.107520  \n",
      "min                  1.000000          1.000000  \n",
      "25%                 17.000000         23.000000  \n",
      "50%                 32.000000         34.000000  \n",
      "75%                 40.000000         54.000000  \n",
      "max                 51.000000         77.000000  \n"
     ]
    }
   ],
   "source": [
    "# Display summary statistics of the DataFrame\n",
    "print(f\"Summary statistics of the DataFrame:\\n{df.describe()}\")   "
   ]
  },
  {
   "cell_type": "markdown",
   "id": "599201ac",
   "metadata": {},
   "source": [
    "### 3. Filter the dataset to include only schools located in Brooklyn"
   ]
  },
  {
   "cell_type": "code",
   "execution_count": 39,
   "id": "f14b7847",
   "metadata": {},
   "outputs": [
    {
     "data": {
      "text/html": [
       "<div>\n",
       "<style scoped>\n",
       "    .dataframe tbody tr th:only-of-type {\n",
       "        vertical-align: middle;\n",
       "    }\n",
       "\n",
       "    .dataframe tbody tr th {\n",
       "        vertical-align: top;\n",
       "    }\n",
       "\n",
       "    .dataframe thead th {\n",
       "        text-align: right;\n",
       "    }\n",
       "</style>\n",
       "<table border=\"1\" class=\"dataframe\">\n",
       "  <thead>\n",
       "    <tr style=\"text-align: right;\">\n",
       "      <th></th>\n",
       "      <th>dbn</th>\n",
       "      <th>school_name</th>\n",
       "      <th>borough</th>\n",
       "      <th>building_code</th>\n",
       "      <th>phone_number</th>\n",
       "      <th>fax_number</th>\n",
       "      <th>grade_span_min</th>\n",
       "      <th>grade_span_max</th>\n",
       "      <th>expgrade_span_min</th>\n",
       "      <th>expgrade_span_max</th>\n",
       "      <th>...</th>\n",
       "      <th>council_district</th>\n",
       "      <th>census_tract</th>\n",
       "      <th>bin</th>\n",
       "      <th>bbl</th>\n",
       "      <th>nta</th>\n",
       "      <th>zip_codes</th>\n",
       "      <th>community_districts</th>\n",
       "      <th>borough_boundaries</th>\n",
       "      <th>city_council_districts</th>\n",
       "      <th>police_precincts</th>\n",
       "    </tr>\n",
       "  </thead>\n",
       "  <tbody>\n",
       "    <tr>\n",
       "      <th>1</th>\n",
       "      <td>21K559</td>\n",
       "      <td>Life Academy High School for Film and Music</td>\n",
       "      <td>Brooklyn</td>\n",
       "      <td>K400</td>\n",
       "      <td>718-333-7750</td>\n",
       "      <td>718-333-7775</td>\n",
       "      <td>9.0</td>\n",
       "      <td>12</td>\n",
       "      <td>NaN</td>\n",
       "      <td>NaN</td>\n",
       "      <td>...</td>\n",
       "      <td>47.0</td>\n",
       "      <td>306.0</td>\n",
       "      <td>3186454.0</td>\n",
       "      <td>3.068830e+09</td>\n",
       "      <td>Gravesend                                     ...</td>\n",
       "      <td>17616.0</td>\n",
       "      <td>21</td>\n",
       "      <td>2</td>\n",
       "      <td>45</td>\n",
       "      <td>35</td>\n",
       "    </tr>\n",
       "    <tr>\n",
       "      <th>2</th>\n",
       "      <td>16K393</td>\n",
       "      <td>Frederick Douglass Academy IV Secondary School</td>\n",
       "      <td>Brooklyn</td>\n",
       "      <td>K026</td>\n",
       "      <td>718-574-2820</td>\n",
       "      <td>718-574-2821</td>\n",
       "      <td>9.0</td>\n",
       "      <td>12</td>\n",
       "      <td>NaN</td>\n",
       "      <td>NaN</td>\n",
       "      <td>...</td>\n",
       "      <td>36.0</td>\n",
       "      <td>291.0</td>\n",
       "      <td>3393805.0</td>\n",
       "      <td>3.016160e+09</td>\n",
       "      <td>Stuyvesant Heights                            ...</td>\n",
       "      <td>18181.0</td>\n",
       "      <td>69</td>\n",
       "      <td>2</td>\n",
       "      <td>49</td>\n",
       "      <td>52</td>\n",
       "    </tr>\n",
       "  </tbody>\n",
       "</table>\n",
       "<p>2 rows × 69 columns</p>\n",
       "</div>"
      ],
      "text/plain": [
       "      dbn                                     school_name   borough  \\\n",
       "1  21K559     Life Academy High School for Film and Music  Brooklyn   \n",
       "2  16K393  Frederick Douglass Academy IV Secondary School  Brooklyn   \n",
       "\n",
       "  building_code  phone_number    fax_number  grade_span_min  grade_span_max  \\\n",
       "1          K400  718-333-7750  718-333-7775             9.0              12   \n",
       "2          K026  718-574-2820  718-574-2821             9.0              12   \n",
       "\n",
       "   expgrade_span_min  expgrade_span_max  ... council_district census_tract  \\\n",
       "1                NaN                NaN  ...             47.0        306.0   \n",
       "2                NaN                NaN  ...             36.0        291.0   \n",
       "\n",
       "         bin           bbl                                                nta  \\\n",
       "1  3186454.0  3.068830e+09  Gravesend                                     ...   \n",
       "2  3393805.0  3.016160e+09  Stuyvesant Heights                            ...   \n",
       "\n",
       "   zip_codes community_districts  borough_boundaries city_council_districts  \\\n",
       "1    17616.0                  21                   2                     45   \n",
       "2    18181.0                  69                   2                     49   \n",
       "\n",
       "  police_precincts  \n",
       "1               35  \n",
       "2               52  \n",
       "\n",
       "[2 rows x 69 columns]"
      ]
     },
     "execution_count": 39,
     "metadata": {},
     "output_type": "execute_result"
    }
   ],
   "source": [
    "# Filter the dataset to include only schools located in Brooklyn\n",
    "brooklyn_schools = df[df['borough'] == 'Brooklyn']\n",
    "brooklyn_schools.head(2)"
   ]
  },
  {
   "cell_type": "markdown",
   "id": "e9685d8c",
   "metadata": {},
   "source": [
    "### 4. Answer the following:"
   ]
  },
  {
   "cell_type": "markdown",
   "id": "b50e13c3",
   "metadata": {},
   "source": [
    "#### - How many total schools are in Brooklyn?"
   ]
  },
  {
   "cell_type": "code",
   "execution_count": 40,
   "id": "6976c1f3",
   "metadata": {},
   "outputs": [
    {
     "name": "stdout",
     "output_type": "stream",
     "text": [
      "Total schools in Brooklyn: 121\n"
     ]
    }
   ],
   "source": [
    "# How many total schools are in Brooklyn?\n",
    "total_brooklyn_schools = len(brooklyn_schools)\n",
    "print(f\"Total schools in Brooklyn: {total_brooklyn_schools}\")"
   ]
  },
  {
   "cell_type": "markdown",
   "id": "a62ab7e3",
   "metadata": {},
   "source": [
    "#### - How many Brooklyn schools offer Grade 9 entry?"
   ]
  },
  {
   "cell_type": "code",
   "execution_count": 46,
   "id": "36972974",
   "metadata": {},
   "outputs": [
    {
     "name": "stdout",
     "output_type": "stream",
     "text": [
      "Total schools in Brooklyn offering Grade 9 entry: 121\n"
     ]
    }
   ],
   "source": [
    "# How many Brooklyn schools offer Grade 9 entry?\n",
    "grade_9_entry_schools = brooklyn_schools[brooklyn_schools['grade_span_min'] <= 9]\n",
    "total_grade_9_entry_schools = len(grade_9_entry_schools)\n",
    "print(f\"Total schools in Brooklyn offering Grade 9 entry: {total_grade_9_entry_schools}\")"
   ]
  },
  {
   "cell_type": "markdown",
   "id": "93b202c9",
   "metadata": {},
   "source": [
    "### 5. Group and summarize:\n",
    "\n"
   ]
  },
  {
   "cell_type": "markdown",
   "id": "1376c266",
   "metadata": {},
   "source": [
    "#### - Count of schools per borough"
   ]
  },
  {
   "cell_type": "code",
   "execution_count": 53,
   "id": "81175121",
   "metadata": {},
   "outputs": [
    {
     "name": "stdout",
     "output_type": "stream",
     "text": [
      "Count of schools per borough:\n",
      "borough\n",
      "Brooklyn         121\n",
      "Bronx            118\n",
      "Manhattan        106\n",
      "Queens            80\n",
      "Staten Island     10\n",
      "Name: count, dtype: int64\n"
     ]
    }
   ],
   "source": [
    "# Count of schools per borough\n",
    "borough_counts = df['borough'].value_counts()\n",
    "print(f\"Count of schools per borough:\\n{borough_counts}\")"
   ]
  },
  {
   "cell_type": "code",
   "execution_count": 59,
   "id": "8066a5c3",
   "metadata": {},
   "outputs": [
    {
     "data": {
      "text/plain": [
       "0"
      ]
     },
     "execution_count": 59,
     "metadata": {},
     "output_type": "execute_result"
    }
   ],
   "source": [
    "df['borough'].isnull().sum() "
   ]
  },
  {
   "cell_type": "markdown",
   "id": "1a148ddd",
   "metadata": {},
   "source": [
    "### 6. Create visualizations:"
   ]
  },
  {
   "cell_type": "markdown",
   "id": "2dc4e935",
   "metadata": {},
   "source": [
    "#### - Bar chart: Number of schools per borough"
   ]
  },
  {
   "cell_type": "code",
   "execution_count": 49,
   "id": "67b33c5a",
   "metadata": {},
   "outputs": [
    {
     "data": {
      "image/png": "[encoded data removed]",
      "text/plain": [
       "<Figure size 1000x600 with 1 Axes>"
      ]
     },
     "metadata": {},
     "output_type": "display_data"
    }
   ],
   "source": [
    "# Plot the count of schools per borough\n",
    "plt.figure(figsize=(10, 6))\n",
    "sns.countplot(data=df, x='borough', order=borough_counts.index)\n",
    "plt.title('Count of Schools per Borough')\n",
    "plt.xlabel('Borough')\n",
    "plt.ylabel('Number of Schools')\n",
    "plt.xticks(rotation=45)\n",
    "plt.tight_layout()\n",
    "plt.show()"
   ]
  }
 ],
 "metadata": {
  "kernelspec": {
   "display_name": ".venv",
   "language": "python",
   "name": "python3"
  },
  "language_info": {
   "codemirror_mode": {
    "name": "ipython",
    "version": 3
   },
   "file_extension": ".py",
   "mimetype": "text/x-python",
   "name": "python",
   "nbconvert_exporter": "python",
   "pygments_lexer": "ipython3",
   "version": "3.9.21"
  }
 },
 "nbformat": 4,
 "nbformat_minor": 5
}
